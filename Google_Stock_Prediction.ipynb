{
  "nbformat": 4,
  "nbformat_minor": 0,
  "metadata": {
    "colab": {
      "name": "Google_Stock Prediction.ipynb",
      "provenance": [],
      "collapsed_sections": [],
      "mount_file_id": "1SKkTaPuKtClLca1bNqu5isD3A8lNQWzc",
      "authorship_tag": "ABX9TyN3/i0gHglwmpIv337169qK",
      "include_colab_link": true
    },
    "kernelspec": {
      "name": "python3",
      "display_name": "Python 3"
    }
  },
  "cells": [
    {
      "cell_type": "markdown",
      "metadata": {
        "id": "view-in-github",
        "colab_type": "text"
      },
      "source": [
        "<a href=\"https://colab.research.google.com/github/soulaimane2/GoogleStockPrediction/blob/main/Google_Stock_Prediction.ipynb\" target=\"_parent\"><img src=\"https://colab.research.google.com/assets/colab-badge.svg\" alt=\"Open In Colab\"/></a>"
      ]
    },
    {
      "cell_type": "code",
      "metadata": {
        "id": "inXpDHr1MGb-"
      },
      "source": [
        "import numpy as np\r\n",
        "import matplotlib.pyplot as plt\r\n",
        "from sklearn.preprocessing import MinMaxScaler\r\n",
        "import pandas as pd"
      ],
      "execution_count": 1,
      "outputs": []
    },
    {
      "cell_type": "code",
      "metadata": {
        "colab": {
          "base_uri": "https://localhost:8080/",
          "height": 204
        },
        "id": "n1OczQkLMzv7",
        "outputId": "735e24ea-9721-4759-d939-2d7ef320974d"
      },
      "source": [
        "data = pd.read_csv(\"/content/drive/MyDrive/Colab Notebooks/GoogleStockPrediction/GOOG.csv\",date_parser=True)\r\n",
        "data.tail()"
      ],
      "execution_count": 2,
      "outputs": [
        {
          "output_type": "execute_result",
          "data": {
            "text/html": [
              "<div>\n",
              "<style scoped>\n",
              "    .dataframe tbody tr th:only-of-type {\n",
              "        vertical-align: middle;\n",
              "    }\n",
              "\n",
              "    .dataframe tbody tr th {\n",
              "        vertical-align: top;\n",
              "    }\n",
              "\n",
              "    .dataframe thead th {\n",
              "        text-align: right;\n",
              "    }\n",
              "</style>\n",
              "<table border=\"1\" class=\"dataframe\">\n",
              "  <thead>\n",
              "    <tr style=\"text-align: right;\">\n",
              "      <th></th>\n",
              "      <th>Date</th>\n",
              "      <th>Open</th>\n",
              "      <th>High</th>\n",
              "      <th>Low</th>\n",
              "      <th>Close</th>\n",
              "      <th>Adj Close</th>\n",
              "      <th>Volume</th>\n",
              "    </tr>\n",
              "  </thead>\n",
              "  <tbody>\n",
              "    <tr>\n",
              "      <th>4134</th>\n",
              "      <td>2021-01-21</td>\n",
              "      <td>1898.000000</td>\n",
              "      <td>1934.859985</td>\n",
              "      <td>1887.109985</td>\n",
              "      <td>1891.250000</td>\n",
              "      <td>1891.250000</td>\n",
              "      <td>2063900</td>\n",
              "    </tr>\n",
              "    <tr>\n",
              "      <th>4135</th>\n",
              "      <td>2021-01-22</td>\n",
              "      <td>1895.680054</td>\n",
              "      <td>1910.949951</td>\n",
              "      <td>1881.760010</td>\n",
              "      <td>1901.050049</td>\n",
              "      <td>1901.050049</td>\n",
              "      <td>1272100</td>\n",
              "    </tr>\n",
              "    <tr>\n",
              "      <th>4136</th>\n",
              "      <td>2021-01-25</td>\n",
              "      <td>1920.670044</td>\n",
              "      <td>1929.579956</td>\n",
              "      <td>1867.530029</td>\n",
              "      <td>1899.400024</td>\n",
              "      <td>1899.400024</td>\n",
              "      <td>1927300</td>\n",
              "    </tr>\n",
              "    <tr>\n",
              "      <th>4137</th>\n",
              "      <td>2021-01-26</td>\n",
              "      <td>1888.839966</td>\n",
              "      <td>1925.000000</td>\n",
              "      <td>1884.244995</td>\n",
              "      <td>1917.239990</td>\n",
              "      <td>1917.239990</td>\n",
              "      <td>1313100</td>\n",
              "    </tr>\n",
              "    <tr>\n",
              "      <th>4138</th>\n",
              "      <td>2021-01-27</td>\n",
              "      <td>1882.530029</td>\n",
              "      <td>1890.000000</td>\n",
              "      <td>1809.000000</td>\n",
              "      <td>1830.790039</td>\n",
              "      <td>1830.790039</td>\n",
              "      <td>2748300</td>\n",
              "    </tr>\n",
              "  </tbody>\n",
              "</table>\n",
              "</div>"
            ],
            "text/plain": [
              "            Date         Open         High  ...        Close    Adj Close   Volume\n",
              "4134  2021-01-21  1898.000000  1934.859985  ...  1891.250000  1891.250000  2063900\n",
              "4135  2021-01-22  1895.680054  1910.949951  ...  1901.050049  1901.050049  1272100\n",
              "4136  2021-01-25  1920.670044  1929.579956  ...  1899.400024  1899.400024  1927300\n",
              "4137  2021-01-26  1888.839966  1925.000000  ...  1917.239990  1917.239990  1313100\n",
              "4138  2021-01-27  1882.530029  1890.000000  ...  1830.790039  1830.790039  2748300\n",
              "\n",
              "[5 rows x 7 columns]"
            ]
          },
          "metadata": {
            "tags": []
          },
          "execution_count": 2
        }
      ]
    },
    {
      "cell_type": "code",
      "metadata": {
        "id": "FNth0qE6NKIU"
      },
      "source": [
        "training_data = data[data['Date'] < '2016-11-11'].copy()\r\n",
        "test_data = data[data['Date'] >= '2016-11-11'].copy()"
      ],
      "execution_count": 6,
      "outputs": []
    },
    {
      "cell_type": "code",
      "metadata": {
        "colab": {
          "base_uri": "https://localhost:8080/",
          "height": 204
        },
        "id": "4vLhDtGvNsto",
        "outputId": "dcaa1e69-b419-44da-be25-a318cf00cdc8"
      },
      "source": [
        "training_data.tail()"
      ],
      "execution_count": 7,
      "outputs": [
        {
          "output_type": "execute_result",
          "data": {
            "text/html": [
              "<div>\n",
              "<style scoped>\n",
              "    .dataframe tbody tr th:only-of-type {\n",
              "        vertical-align: middle;\n",
              "    }\n",
              "\n",
              "    .dataframe tbody tr th {\n",
              "        vertical-align: top;\n",
              "    }\n",
              "\n",
              "    .dataframe thead th {\n",
              "        text-align: right;\n",
              "    }\n",
              "</style>\n",
              "<table border=\"1\" class=\"dataframe\">\n",
              "  <thead>\n",
              "    <tr style=\"text-align: right;\">\n",
              "      <th></th>\n",
              "      <th>Date</th>\n",
              "      <th>Open</th>\n",
              "      <th>High</th>\n",
              "      <th>Low</th>\n",
              "      <th>Close</th>\n",
              "      <th>Adj Close</th>\n",
              "      <th>Volume</th>\n",
              "    </tr>\n",
              "  </thead>\n",
              "  <tbody>\n",
              "    <tr>\n",
              "      <th>3076</th>\n",
              "      <td>2016-11-04</td>\n",
              "      <td>750.659973</td>\n",
              "      <td>770.359985</td>\n",
              "      <td>750.560974</td>\n",
              "      <td>762.020020</td>\n",
              "      <td>762.020020</td>\n",
              "      <td>2134800</td>\n",
              "    </tr>\n",
              "    <tr>\n",
              "      <th>3077</th>\n",
              "      <td>2016-11-07</td>\n",
              "      <td>774.500000</td>\n",
              "      <td>785.190002</td>\n",
              "      <td>772.549988</td>\n",
              "      <td>782.520020</td>\n",
              "      <td>782.520020</td>\n",
              "      <td>1585100</td>\n",
              "    </tr>\n",
              "    <tr>\n",
              "      <th>3078</th>\n",
              "      <td>2016-11-08</td>\n",
              "      <td>783.400024</td>\n",
              "      <td>795.632996</td>\n",
              "      <td>780.190002</td>\n",
              "      <td>790.510010</td>\n",
              "      <td>790.510010</td>\n",
              "      <td>1366900</td>\n",
              "    </tr>\n",
              "    <tr>\n",
              "      <th>3079</th>\n",
              "      <td>2016-11-09</td>\n",
              "      <td>779.940002</td>\n",
              "      <td>791.226990</td>\n",
              "      <td>771.669983</td>\n",
              "      <td>785.309998</td>\n",
              "      <td>785.309998</td>\n",
              "      <td>2607100</td>\n",
              "    </tr>\n",
              "    <tr>\n",
              "      <th>3080</th>\n",
              "      <td>2016-11-10</td>\n",
              "      <td>791.169983</td>\n",
              "      <td>791.169983</td>\n",
              "      <td>752.179993</td>\n",
              "      <td>762.559998</td>\n",
              "      <td>762.559998</td>\n",
              "      <td>4745200</td>\n",
              "    </tr>\n",
              "  </tbody>\n",
              "</table>\n",
              "</div>"
            ],
            "text/plain": [
              "            Date        Open        High  ...       Close   Adj Close   Volume\n",
              "3076  2016-11-04  750.659973  770.359985  ...  762.020020  762.020020  2134800\n",
              "3077  2016-11-07  774.500000  785.190002  ...  782.520020  782.520020  1585100\n",
              "3078  2016-11-08  783.400024  795.632996  ...  790.510010  790.510010  1366900\n",
              "3079  2016-11-09  779.940002  791.226990  ...  785.309998  785.309998  2607100\n",
              "3080  2016-11-10  791.169983  791.169983  ...  762.559998  762.559998  4745200\n",
              "\n",
              "[5 rows x 7 columns]"
            ]
          },
          "metadata": {
            "tags": []
          },
          "execution_count": 7
        }
      ]
    },
    {
      "cell_type": "code",
      "metadata": {
        "colab": {
          "base_uri": "https://localhost:8080/",
          "height": 204
        },
        "id": "bmY1-VF-Nu6V",
        "outputId": "3daded50-3164-42bf-fab6-3b184858187c"
      },
      "source": [
        "test_data.head()"
      ],
      "execution_count": 8,
      "outputs": [
        {
          "output_type": "execute_result",
          "data": {
            "text/html": [
              "<div>\n",
              "<style scoped>\n",
              "    .dataframe tbody tr th:only-of-type {\n",
              "        vertical-align: middle;\n",
              "    }\n",
              "\n",
              "    .dataframe tbody tr th {\n",
              "        vertical-align: top;\n",
              "    }\n",
              "\n",
              "    .dataframe thead th {\n",
              "        text-align: right;\n",
              "    }\n",
              "</style>\n",
              "<table border=\"1\" class=\"dataframe\">\n",
              "  <thead>\n",
              "    <tr style=\"text-align: right;\">\n",
              "      <th></th>\n",
              "      <th>Date</th>\n",
              "      <th>Open</th>\n",
              "      <th>High</th>\n",
              "      <th>Low</th>\n",
              "      <th>Close</th>\n",
              "      <th>Adj Close</th>\n",
              "      <th>Volume</th>\n",
              "    </tr>\n",
              "  </thead>\n",
              "  <tbody>\n",
              "    <tr>\n",
              "      <th>3081</th>\n",
              "      <td>2016-11-11</td>\n",
              "      <td>756.539978</td>\n",
              "      <td>760.780029</td>\n",
              "      <td>750.380005</td>\n",
              "      <td>754.020020</td>\n",
              "      <td>754.020020</td>\n",
              "      <td>2431800</td>\n",
              "    </tr>\n",
              "    <tr>\n",
              "      <th>3082</th>\n",
              "      <td>2016-11-14</td>\n",
              "      <td>755.599976</td>\n",
              "      <td>757.849976</td>\n",
              "      <td>727.539978</td>\n",
              "      <td>736.080017</td>\n",
              "      <td>736.080017</td>\n",
              "      <td>3654400</td>\n",
              "    </tr>\n",
              "    <tr>\n",
              "      <th>3083</th>\n",
              "      <td>2016-11-15</td>\n",
              "      <td>746.969971</td>\n",
              "      <td>764.416016</td>\n",
              "      <td>746.969971</td>\n",
              "      <td>758.489990</td>\n",
              "      <td>758.489990</td>\n",
              "      <td>2384000</td>\n",
              "    </tr>\n",
              "    <tr>\n",
              "      <th>3084</th>\n",
              "      <td>2016-11-16</td>\n",
              "      <td>755.200012</td>\n",
              "      <td>766.359985</td>\n",
              "      <td>750.510010</td>\n",
              "      <td>764.479980</td>\n",
              "      <td>764.479980</td>\n",
              "      <td>1472600</td>\n",
              "    </tr>\n",
              "    <tr>\n",
              "      <th>3085</th>\n",
              "      <td>2016-11-17</td>\n",
              "      <td>766.919983</td>\n",
              "      <td>772.700012</td>\n",
              "      <td>764.229980</td>\n",
              "      <td>771.229980</td>\n",
              "      <td>771.229980</td>\n",
              "      <td>1304000</td>\n",
              "    </tr>\n",
              "  </tbody>\n",
              "</table>\n",
              "</div>"
            ],
            "text/plain": [
              "            Date        Open        High  ...       Close   Adj Close   Volume\n",
              "3081  2016-11-11  756.539978  760.780029  ...  754.020020  754.020020  2431800\n",
              "3082  2016-11-14  755.599976  757.849976  ...  736.080017  736.080017  3654400\n",
              "3083  2016-11-15  746.969971  764.416016  ...  758.489990  758.489990  2384000\n",
              "3084  2016-11-16  755.200012  766.359985  ...  764.479980  764.479980  1472600\n",
              "3085  2016-11-17  766.919983  772.700012  ...  771.229980  771.229980  1304000\n",
              "\n",
              "[5 rows x 7 columns]"
            ]
          },
          "metadata": {
            "tags": []
          },
          "execution_count": 8
        }
      ]
    },
    {
      "cell_type": "code",
      "metadata": {
        "id": "LNxa_10RNzL6"
      },
      "source": [
        "training_data = training_data.drop(['Date','Adj Close'],axis=1)"
      ],
      "execution_count": 9,
      "outputs": []
    },
    {
      "cell_type": "code",
      "metadata": {
        "colab": {
          "base_uri": "https://localhost:8080/",
          "height": 204
        },
        "id": "lxkeLVwwORAR",
        "outputId": "4ee357d1-1f68-4102-ba08-df6fbdd181c4"
      },
      "source": [
        "training_data.tail()"
      ],
      "execution_count": 10,
      "outputs": [
        {
          "output_type": "execute_result",
          "data": {
            "text/html": [
              "<div>\n",
              "<style scoped>\n",
              "    .dataframe tbody tr th:only-of-type {\n",
              "        vertical-align: middle;\n",
              "    }\n",
              "\n",
              "    .dataframe tbody tr th {\n",
              "        vertical-align: top;\n",
              "    }\n",
              "\n",
              "    .dataframe thead th {\n",
              "        text-align: right;\n",
              "    }\n",
              "</style>\n",
              "<table border=\"1\" class=\"dataframe\">\n",
              "  <thead>\n",
              "    <tr style=\"text-align: right;\">\n",
              "      <th></th>\n",
              "      <th>Open</th>\n",
              "      <th>High</th>\n",
              "      <th>Low</th>\n",
              "      <th>Close</th>\n",
              "      <th>Volume</th>\n",
              "    </tr>\n",
              "  </thead>\n",
              "  <tbody>\n",
              "    <tr>\n",
              "      <th>3076</th>\n",
              "      <td>750.659973</td>\n",
              "      <td>770.359985</td>\n",
              "      <td>750.560974</td>\n",
              "      <td>762.020020</td>\n",
              "      <td>2134800</td>\n",
              "    </tr>\n",
              "    <tr>\n",
              "      <th>3077</th>\n",
              "      <td>774.500000</td>\n",
              "      <td>785.190002</td>\n",
              "      <td>772.549988</td>\n",
              "      <td>782.520020</td>\n",
              "      <td>1585100</td>\n",
              "    </tr>\n",
              "    <tr>\n",
              "      <th>3078</th>\n",
              "      <td>783.400024</td>\n",
              "      <td>795.632996</td>\n",
              "      <td>780.190002</td>\n",
              "      <td>790.510010</td>\n",
              "      <td>1366900</td>\n",
              "    </tr>\n",
              "    <tr>\n",
              "      <th>3079</th>\n",
              "      <td>779.940002</td>\n",
              "      <td>791.226990</td>\n",
              "      <td>771.669983</td>\n",
              "      <td>785.309998</td>\n",
              "      <td>2607100</td>\n",
              "    </tr>\n",
              "    <tr>\n",
              "      <th>3080</th>\n",
              "      <td>791.169983</td>\n",
              "      <td>791.169983</td>\n",
              "      <td>752.179993</td>\n",
              "      <td>762.559998</td>\n",
              "      <td>4745200</td>\n",
              "    </tr>\n",
              "  </tbody>\n",
              "</table>\n",
              "</div>"
            ],
            "text/plain": [
              "            Open        High         Low       Close   Volume\n",
              "3076  750.659973  770.359985  750.560974  762.020020  2134800\n",
              "3077  774.500000  785.190002  772.549988  782.520020  1585100\n",
              "3078  783.400024  795.632996  780.190002  790.510010  1366900\n",
              "3079  779.940002  791.226990  771.669983  785.309998  2607100\n",
              "3080  791.169983  791.169983  752.179993  762.559998  4745200"
            ]
          },
          "metadata": {
            "tags": []
          },
          "execution_count": 10
        }
      ]
    },
    {
      "cell_type": "code",
      "metadata": {
        "colab": {
          "base_uri": "https://localhost:8080/"
        },
        "id": "7_QlUlmLOUDJ",
        "outputId": "c5ecb6e9-0bb7-4e5c-b37f-18d252229785"
      },
      "source": [
        "scaler = MinMaxScaler()\r\n",
        "training_data = scaler.fit_transform(training_data)\r\n",
        "training_data"
      ],
      "execution_count": 11,
      "outputs": [
        {
          "output_type": "execute_result",
          "data": {
            "text/plain": [
              "array([[5.25876027e-04, 1.50870897e-03, 0.00000000e+00, 2.15365890e-04,\n",
              "        5.43577158e-01],\n",
              "       [1.18159289e-03, 4.77323266e-03, 2.98614418e-03, 5.41667348e-03,\n",
              "        2.77885876e-01],\n",
              "       [7.50506935e-03, 7.63456964e-03, 8.60982389e-03, 6.12802012e-03,\n",
              "        2.22151352e-01],\n",
              "       ...,\n",
              "       [9.56625489e-01, 9.72523501e-01, 9.67055695e-01, 9.70391432e-01,\n",
              "        1.64657328e-02],\n",
              "       [9.52115967e-01, 9.66771535e-01, 9.55805757e-01, 9.63578817e-01,\n",
              "        3.14923203e-02],\n",
              "       [9.66752247e-01, 9.66697113e-01, 9.30070934e-01, 9.33773699e-01,\n",
              "        5.73980990e-02]])"
            ]
          },
          "metadata": {
            "tags": []
          },
          "execution_count": 11
        }
      ]
    },
    {
      "cell_type": "code",
      "metadata": {
        "colab": {
          "base_uri": "https://localhost:8080/"
        },
        "id": "x2KLk-8-Oc7L",
        "outputId": "9a1ab078-c744-4dca-d05a-357fef857cb0"
      },
      "source": [
        "training_data.shape"
      ],
      "execution_count": 12,
      "outputs": [
        {
          "output_type": "execute_result",
          "data": {
            "text/plain": [
              "(3081, 5)"
            ]
          },
          "metadata": {
            "tags": []
          },
          "execution_count": 12
        }
      ]
    },
    {
      "cell_type": "code",
      "metadata": {
        "colab": {
          "base_uri": "https://localhost:8080/"
        },
        "id": "HkJuHig3OsJ3",
        "outputId": "1d663237-0076-4e09-8f3b-48b56eb9664e"
      },
      "source": [
        "training_data"
      ],
      "execution_count": 14,
      "outputs": [
        {
          "output_type": "execute_result",
          "data": {
            "text/plain": [
              "array([[5.25876027e-04, 1.50870897e-03, 0.00000000e+00, 2.15365890e-04,\n",
              "        5.43577158e-01],\n",
              "       [1.18159289e-03, 4.77323266e-03, 2.98614418e-03, 5.41667348e-03,\n",
              "        2.77885876e-01],\n",
              "       [7.50506935e-03, 7.63456964e-03, 8.60982389e-03, 6.12802012e-03,\n",
              "        2.22151352e-01],\n",
              "       ...,\n",
              "       [9.56625489e-01, 9.72523501e-01, 9.67055695e-01, 9.70391432e-01,\n",
              "        1.64657328e-02],\n",
              "       [9.52115967e-01, 9.66771535e-01, 9.55805757e-01, 9.63578817e-01,\n",
              "        3.14923203e-02],\n",
              "       [9.66752247e-01, 9.66697113e-01, 9.30070934e-01, 9.33773699e-01,\n",
              "        5.73980990e-02]])"
            ]
          },
          "metadata": {
            "tags": []
          },
          "execution_count": 14
        }
      ]
    },
    {
      "cell_type": "code",
      "metadata": {
        "id": "2sMQ4MU-PSZe"
      },
      "source": [
        "x_train = []\r\n",
        "y_train = []\r\n",
        "\r\n",
        "for i in range(60,training_data.shape[0]):\r\n",
        "  x_train.append(training_data[i-60:i])\r\n",
        "  y_train.append(training_data[i,0])\r\n",
        "x_train,y_train = np.array(x_train) , np.array(y_train)"
      ],
      "execution_count": 18,
      "outputs": []
    },
    {
      "cell_type": "code",
      "metadata": {
        "id": "2rmjkMaaPtmm"
      },
      "source": [
        "from tensorflow.keras import Sequential\r\n",
        "from tensorflow.keras.layers import Dense, LSTM, Dropout"
      ],
      "execution_count": 19,
      "outputs": []
    },
    {
      "cell_type": "code",
      "metadata": {
        "id": "Um8VPX6eQK1D"
      },
      "source": [
        "regressor = Sequential()\r\n",
        "\r\n",
        "regressor.add(LSTM(units = 60, activation = 'relu', return_sequences = True, input_shape = (x_train.shape[1], 5)))\r\n",
        "regressor.add(Dropout(0.2))\r\n",
        "\r\n",
        "regressor.add(LSTM(units = 60, activation = 'relu', return_sequences = True))\r\n",
        "regressor.add(Dropout(0.2))\r\n",
        "\r\n",
        "regressor.add(LSTM(units = 80, activation = 'relu', return_sequences = True))\r\n",
        "regressor.add(Dropout(0.2))\r\n",
        "\r\n",
        "regressor.add(LSTM(units = 120, activation = 'relu'))\r\n",
        "regressor.add(Dropout(0.2))\r\n",
        "\r\n",
        "regressor.add(Dense(units = 1))"
      ],
      "execution_count": 21,
      "outputs": []
    },
    {
      "cell_type": "code",
      "metadata": {
        "colab": {
          "base_uri": "https://localhost:8080/"
        },
        "id": "FDAp_1HFQQ3L",
        "outputId": "8104e047-a886-42d8-89ed-133af36a5050"
      },
      "source": [
        "regressor.summary()"
      ],
      "execution_count": 23,
      "outputs": [
        {
          "output_type": "stream",
          "text": [
            "Model: \"sequential_1\"\n",
            "_________________________________________________________________\n",
            "Layer (type)                 Output Shape              Param #   \n",
            "=================================================================\n",
            "lstm_4 (LSTM)                (None, 60, 60)            15840     \n",
            "_________________________________________________________________\n",
            "dropout_4 (Dropout)          (None, 60, 60)            0         \n",
            "_________________________________________________________________\n",
            "lstm_5 (LSTM)                (None, 60, 60)            29040     \n",
            "_________________________________________________________________\n",
            "dropout_5 (Dropout)          (None, 60, 60)            0         \n",
            "_________________________________________________________________\n",
            "lstm_6 (LSTM)                (None, 60, 80)            45120     \n",
            "_________________________________________________________________\n",
            "dropout_6 (Dropout)          (None, 60, 80)            0         \n",
            "_________________________________________________________________\n",
            "lstm_7 (LSTM)                (None, 120)               96480     \n",
            "_________________________________________________________________\n",
            "dropout_7 (Dropout)          (None, 120)               0         \n",
            "_________________________________________________________________\n",
            "dense_1 (Dense)              (None, 1)                 121       \n",
            "=================================================================\n",
            "Total params: 186,601\n",
            "Trainable params: 186,601\n",
            "Non-trainable params: 0\n",
            "_________________________________________________________________\n"
          ],
          "name": "stdout"
        }
      ]
    },
    {
      "cell_type": "code",
      "metadata": {
        "colab": {
          "base_uri": "https://localhost:8080/"
        },
        "id": "kSEhOfG4QZLq",
        "outputId": "0d1921fd-3c88-4f58-920d-d58533765cae"
      },
      "source": [
        "regressor.compile(optimizer='adam', loss = 'mean_squared_error')\r\n",
        "regressor.fit(X_train, y_train, epochs=60, batch_size=64)"
      ],
      "execution_count": 24,
      "outputs": [
        {
          "output_type": "stream",
          "text": [
            "Epoch 1/60\n",
            "48/48 [==============================] - 14s 199ms/step - loss: 0.0776\n",
            "Epoch 2/60\n",
            "48/48 [==============================] - 10s 205ms/step - loss: 0.0043\n",
            "Epoch 3/60\n",
            "48/48 [==============================] - 10s 205ms/step - loss: 0.0029\n",
            "Epoch 4/60\n",
            "48/48 [==============================] - 10s 209ms/step - loss: 0.0032\n",
            "Epoch 5/60\n",
            "48/48 [==============================] - 10s 206ms/step - loss: 0.0029\n",
            "Epoch 6/60\n",
            "48/48 [==============================] - 10s 214ms/step - loss: 0.0025\n",
            "Epoch 7/60\n",
            "48/48 [==============================] - 10s 208ms/step - loss: 0.0022\n",
            "Epoch 8/60\n",
            "48/48 [==============================] - 10s 205ms/step - loss: 0.0026\n",
            "Epoch 9/60\n",
            "48/48 [==============================] - 10s 208ms/step - loss: 0.0023\n",
            "Epoch 10/60\n",
            "48/48 [==============================] - 10s 205ms/step - loss: 0.0026\n",
            "Epoch 11/60\n",
            "48/48 [==============================] - 10s 207ms/step - loss: 0.0022\n",
            "Epoch 12/60\n",
            "48/48 [==============================] - 10s 205ms/step - loss: 0.0021\n",
            "Epoch 13/60\n",
            "48/48 [==============================] - 10s 206ms/step - loss: 0.0019\n",
            "Epoch 14/60\n",
            "48/48 [==============================] - 10s 209ms/step - loss: 0.0020\n",
            "Epoch 15/60\n",
            "48/48 [==============================] - 10s 209ms/step - loss: 0.0017\n",
            "Epoch 16/60\n",
            "48/48 [==============================] - 10s 203ms/step - loss: 0.0021\n",
            "Epoch 17/60\n",
            "48/48 [==============================] - 10s 206ms/step - loss: 0.0017\n",
            "Epoch 18/60\n",
            "48/48 [==============================] - 10s 205ms/step - loss: 0.0019\n",
            "Epoch 19/60\n",
            "48/48 [==============================] - 10s 205ms/step - loss: 0.0015\n",
            "Epoch 20/60\n",
            "48/48 [==============================] - 10s 206ms/step - loss: 0.0018\n",
            "Epoch 21/60\n",
            "48/48 [==============================] - 10s 208ms/step - loss: 0.0017\n",
            "Epoch 22/60\n",
            "48/48 [==============================] - 10s 210ms/step - loss: 0.0018\n",
            "Epoch 23/60\n",
            "48/48 [==============================] - 10s 212ms/step - loss: 0.0018\n",
            "Epoch 24/60\n",
            "48/48 [==============================] - 10s 211ms/step - loss: 0.0016\n",
            "Epoch 25/60\n",
            "48/48 [==============================] - 10s 205ms/step - loss: 0.0015\n",
            "Epoch 26/60\n",
            "48/48 [==============================] - 10s 207ms/step - loss: 0.0015\n",
            "Epoch 27/60\n",
            "48/48 [==============================] - 10s 209ms/step - loss: 0.0014\n",
            "Epoch 28/60\n",
            "48/48 [==============================] - 10s 207ms/step - loss: 0.0015\n",
            "Epoch 29/60\n",
            "48/48 [==============================] - 10s 208ms/step - loss: 0.0014\n",
            "Epoch 30/60\n",
            "48/48 [==============================] - 10s 208ms/step - loss: 0.0016\n",
            "Epoch 31/60\n",
            "48/48 [==============================] - 10s 208ms/step - loss: 0.0014\n",
            "Epoch 32/60\n",
            "48/48 [==============================] - 10s 206ms/step - loss: 0.0012\n",
            "Epoch 33/60\n",
            "48/48 [==============================] - 10s 207ms/step - loss: 0.0013\n",
            "Epoch 34/60\n",
            "48/48 [==============================] - 10s 208ms/step - loss: 0.0014\n",
            "Epoch 35/60\n",
            "48/48 [==============================] - 10s 208ms/step - loss: 0.0014\n",
            "Epoch 36/60\n",
            "48/48 [==============================] - 10s 209ms/step - loss: 0.0015\n",
            "Epoch 37/60\n",
            "48/48 [==============================] - 10s 212ms/step - loss: 0.0013\n",
            "Epoch 38/60\n",
            "48/48 [==============================] - 10s 211ms/step - loss: 0.0013\n",
            "Epoch 39/60\n",
            "48/48 [==============================] - 10s 207ms/step - loss: 0.0013\n",
            "Epoch 40/60\n",
            "48/48 [==============================] - 10s 210ms/step - loss: 0.0012\n",
            "Epoch 41/60\n",
            "48/48 [==============================] - 10s 210ms/step - loss: 0.0012\n",
            "Epoch 42/60\n",
            "48/48 [==============================] - 10s 213ms/step - loss: 0.0014\n",
            "Epoch 43/60\n",
            "48/48 [==============================] - 10s 208ms/step - loss: 0.0011\n",
            "Epoch 44/60\n",
            "48/48 [==============================] - 10s 207ms/step - loss: 0.0012\n",
            "Epoch 45/60\n",
            "48/48 [==============================] - 10s 208ms/step - loss: 0.0012\n",
            "Epoch 46/60\n",
            "48/48 [==============================] - 10s 210ms/step - loss: 0.0011\n",
            "Epoch 47/60\n",
            "48/48 [==============================] - 10s 210ms/step - loss: 0.0014\n",
            "Epoch 48/60\n",
            "48/48 [==============================] - 10s 211ms/step - loss: 0.0011\n",
            "Epoch 49/60\n",
            "48/48 [==============================] - 10s 207ms/step - loss: 0.0012\n",
            "Epoch 50/60\n",
            "48/48 [==============================] - 10s 207ms/step - loss: 0.0012\n",
            "Epoch 51/60\n",
            "48/48 [==============================] - 10s 210ms/step - loss: 0.0011\n",
            "Epoch 52/60\n",
            "48/48 [==============================] - 10s 213ms/step - loss: 0.0012\n",
            "Epoch 53/60\n",
            "48/48 [==============================] - 10s 211ms/step - loss: 0.0010\n",
            "Epoch 54/60\n",
            "48/48 [==============================] - 10s 214ms/step - loss: 0.0011\n",
            "Epoch 55/60\n",
            "48/48 [==============================] - 10s 216ms/step - loss: 0.0011\n",
            "Epoch 56/60\n",
            "48/48 [==============================] - 10s 209ms/step - loss: 0.0012\n",
            "Epoch 57/60\n",
            "48/48 [==============================] - 10s 211ms/step - loss: 0.0010\n",
            "Epoch 58/60\n",
            "48/48 [==============================] - 10s 213ms/step - loss: 9.3422e-04\n",
            "Epoch 59/60\n",
            "48/48 [==============================] - 10s 210ms/step - loss: 0.0010\n",
            "Epoch 60/60\n",
            "48/48 [==============================] - 10s 212ms/step - loss: 0.0010\n"
          ],
          "name": "stdout"
        },
        {
          "output_type": "execute_result",
          "data": {
            "text/plain": [
              "<tensorflow.python.keras.callbacks.History at 0x7fb6ab62d4e0>"
            ]
          },
          "metadata": {
            "tags": []
          },
          "execution_count": 24
        }
      ]
    },
    {
      "cell_type": "code",
      "metadata": {
        "colab": {
          "base_uri": "https://localhost:8080/",
          "height": 204
        },
        "id": "tip55-irQhrc",
        "outputId": "1fd994f3-bcba-4108-81fc-fc966753a2c2"
      },
      "source": [
        "test_data.head()"
      ],
      "execution_count": 26,
      "outputs": [
        {
          "output_type": "execute_result",
          "data": {
            "text/html": [
              "<div>\n",
              "<style scoped>\n",
              "    .dataframe tbody tr th:only-of-type {\n",
              "        vertical-align: middle;\n",
              "    }\n",
              "\n",
              "    .dataframe tbody tr th {\n",
              "        vertical-align: top;\n",
              "    }\n",
              "\n",
              "    .dataframe thead th {\n",
              "        text-align: right;\n",
              "    }\n",
              "</style>\n",
              "<table border=\"1\" class=\"dataframe\">\n",
              "  <thead>\n",
              "    <tr style=\"text-align: right;\">\n",
              "      <th></th>\n",
              "      <th>Date</th>\n",
              "      <th>Open</th>\n",
              "      <th>High</th>\n",
              "      <th>Low</th>\n",
              "      <th>Close</th>\n",
              "      <th>Adj Close</th>\n",
              "      <th>Volume</th>\n",
              "    </tr>\n",
              "  </thead>\n",
              "  <tbody>\n",
              "    <tr>\n",
              "      <th>3081</th>\n",
              "      <td>2016-11-11</td>\n",
              "      <td>756.539978</td>\n",
              "      <td>760.780029</td>\n",
              "      <td>750.380005</td>\n",
              "      <td>754.020020</td>\n",
              "      <td>754.020020</td>\n",
              "      <td>2431800</td>\n",
              "    </tr>\n",
              "    <tr>\n",
              "      <th>3082</th>\n",
              "      <td>2016-11-14</td>\n",
              "      <td>755.599976</td>\n",
              "      <td>757.849976</td>\n",
              "      <td>727.539978</td>\n",
              "      <td>736.080017</td>\n",
              "      <td>736.080017</td>\n",
              "      <td>3654400</td>\n",
              "    </tr>\n",
              "    <tr>\n",
              "      <th>3083</th>\n",
              "      <td>2016-11-15</td>\n",
              "      <td>746.969971</td>\n",
              "      <td>764.416016</td>\n",
              "      <td>746.969971</td>\n",
              "      <td>758.489990</td>\n",
              "      <td>758.489990</td>\n",
              "      <td>2384000</td>\n",
              "    </tr>\n",
              "    <tr>\n",
              "      <th>3084</th>\n",
              "      <td>2016-11-16</td>\n",
              "      <td>755.200012</td>\n",
              "      <td>766.359985</td>\n",
              "      <td>750.510010</td>\n",
              "      <td>764.479980</td>\n",
              "      <td>764.479980</td>\n",
              "      <td>1472600</td>\n",
              "    </tr>\n",
              "    <tr>\n",
              "      <th>3085</th>\n",
              "      <td>2016-11-17</td>\n",
              "      <td>766.919983</td>\n",
              "      <td>772.700012</td>\n",
              "      <td>764.229980</td>\n",
              "      <td>771.229980</td>\n",
              "      <td>771.229980</td>\n",
              "      <td>1304000</td>\n",
              "    </tr>\n",
              "  </tbody>\n",
              "</table>\n",
              "</div>"
            ],
            "text/plain": [
              "            Date        Open        High  ...       Close   Adj Close   Volume\n",
              "3081  2016-11-11  756.539978  760.780029  ...  754.020020  754.020020  2431800\n",
              "3082  2016-11-14  755.599976  757.849976  ...  736.080017  736.080017  3654400\n",
              "3083  2016-11-15  746.969971  764.416016  ...  758.489990  758.489990  2384000\n",
              "3084  2016-11-16  755.200012  766.359985  ...  764.479980  764.479980  1472600\n",
              "3085  2016-11-17  766.919983  772.700012  ...  771.229980  771.229980  1304000\n",
              "\n",
              "[5 rows x 7 columns]"
            ]
          },
          "metadata": {
            "tags": []
          },
          "execution_count": 26
        }
      ]
    },
    {
      "cell_type": "code",
      "metadata": {
        "colab": {
          "base_uri": "https://localhost:8080/",
          "height": 204
        },
        "id": "q1fULoa5T68g",
        "outputId": "008dbc79-e48d-4b70-ace6-a2c66b4e67d8"
      },
      "source": [
        "past_60_days = test_data.tail(60)\r\n",
        "df = past_60_days.append(test_data, ignore_index = True)\r\n",
        "df = df.drop(['Date', 'Adj Close'], axis = 1)\r\n",
        "df.head()"
      ],
      "execution_count": 28,
      "outputs": [
        {
          "output_type": "execute_result",
          "data": {
            "text/html": [
              "<div>\n",
              "<style scoped>\n",
              "    .dataframe tbody tr th:only-of-type {\n",
              "        vertical-align: middle;\n",
              "    }\n",
              "\n",
              "    .dataframe tbody tr th {\n",
              "        vertical-align: top;\n",
              "    }\n",
              "\n",
              "    .dataframe thead th {\n",
              "        text-align: right;\n",
              "    }\n",
              "</style>\n",
              "<table border=\"1\" class=\"dataframe\">\n",
              "  <thead>\n",
              "    <tr style=\"text-align: right;\">\n",
              "      <th></th>\n",
              "      <th>Open</th>\n",
              "      <th>High</th>\n",
              "      <th>Low</th>\n",
              "      <th>Close</th>\n",
              "      <th>Volume</th>\n",
              "    </tr>\n",
              "  </thead>\n",
              "  <tbody>\n",
              "    <tr>\n",
              "      <th>0</th>\n",
              "      <td>1672.109985</td>\n",
              "      <td>1687.000000</td>\n",
              "      <td>1604.459961</td>\n",
              "      <td>1621.010010</td>\n",
              "      <td>4329100</td>\n",
              "    </tr>\n",
              "    <tr>\n",
              "      <th>1</th>\n",
              "      <td>1628.160034</td>\n",
              "      <td>1660.770020</td>\n",
              "      <td>1616.030029</td>\n",
              "      <td>1626.030029</td>\n",
              "      <td>2535400</td>\n",
              "    </tr>\n",
              "    <tr>\n",
              "      <th>2</th>\n",
              "      <td>1631.780029</td>\n",
              "      <td>1661.699951</td>\n",
              "      <td>1616.619995</td>\n",
              "      <td>1650.209961</td>\n",
              "      <td>1661700</td>\n",
              "    </tr>\n",
              "    <tr>\n",
              "      <th>3</th>\n",
              "      <td>1710.280029</td>\n",
              "      <td>1771.364990</td>\n",
              "      <td>1706.030029</td>\n",
              "      <td>1749.130005</td>\n",
              "      <td>3570900</td>\n",
              "    </tr>\n",
              "    <tr>\n",
              "      <th>4</th>\n",
              "      <td>1781.000000</td>\n",
              "      <td>1793.640015</td>\n",
              "      <td>1750.510010</td>\n",
              "      <td>1763.369995</td>\n",
              "      <td>2065800</td>\n",
              "    </tr>\n",
              "  </tbody>\n",
              "</table>\n",
              "</div>"
            ],
            "text/plain": [
              "          Open         High          Low        Close   Volume\n",
              "0  1672.109985  1687.000000  1604.459961  1621.010010  4329100\n",
              "1  1628.160034  1660.770020  1616.030029  1626.030029  2535400\n",
              "2  1631.780029  1661.699951  1616.619995  1650.209961  1661700\n",
              "3  1710.280029  1771.364990  1706.030029  1749.130005  3570900\n",
              "4  1781.000000  1793.640015  1750.510010  1763.369995  2065800"
            ]
          },
          "metadata": {
            "tags": []
          },
          "execution_count": 28
        }
      ]
    },
    {
      "cell_type": "code",
      "metadata": {
        "colab": {
          "base_uri": "https://localhost:8080/"
        },
        "id": "mPNtyCqcUKF6",
        "outputId": "a6fbf411-4a9c-40fc-d49d-2c75cd76bdd0"
      },
      "source": [
        "inputs = scaler.transform(df)\r\n",
        "inputs"
      ],
      "execution_count": 29,
      "outputs": [
        {
          "output_type": "execute_result",
          "data": {
            "text/plain": [
              "array([[2.11490059, 2.13618807, 2.05543192, 2.05844202, 0.05235652],\n",
              "       [2.05761966, 2.10194527, 2.07070918, 2.06501882, 0.03062358],\n",
              "       [2.06233768, 2.10315928, 2.07148817, 2.09669731, 0.02003761],\n",
              "       ...,\n",
              "       [2.43885435, 2.4528721 , 2.40279288, 2.42316498, 0.02325569],\n",
              "       [2.39736951, 2.44689304, 2.42486353, 2.44653739, 0.01581388],\n",
              "       [2.38914563, 2.40120114, 2.32550911, 2.333278  , 0.03320314]])"
            ]
          },
          "metadata": {
            "tags": []
          },
          "execution_count": 29
        }
      ]
    },
    {
      "cell_type": "code",
      "metadata": {
        "colab": {
          "base_uri": "https://localhost:8080/"
        },
        "id": "aMqHXhMMURLN",
        "outputId": "c317dbb5-cfef-46b3-8ab7-c17edfd1a3c3"
      },
      "source": [
        "X_test = []\r\n",
        "y_test = []\r\n",
        "\r\n",
        "for i in range(60, inputs.shape[0]):\r\n",
        "    X_test.append(inputs[i-60:i])\r\n",
        "    y_test.append(inputs[i, 0])\r\n",
        "\r\n",
        "X_test, y_test = np.array(X_test), np.array(y_test)\r\n",
        "X_test.shape, y_test.shape"
      ],
      "execution_count": 30,
      "outputs": [
        {
          "output_type": "execute_result",
          "data": {
            "text/plain": [
              "((1058, 60, 5), (1058,))"
            ]
          },
          "metadata": {
            "tags": []
          },
          "execution_count": 30
        }
      ]
    },
    {
      "cell_type": "code",
      "metadata": {
        "id": "yjB2uYl1UT91"
      },
      "source": [
        "y_pred = regressor.predict(X_test)"
      ],
      "execution_count": 31,
      "outputs": []
    },
    {
      "cell_type": "code",
      "metadata": {
        "colab": {
          "base_uri": "https://localhost:8080/"
        },
        "id": "-3IHQOP2UYj0",
        "outputId": "e6c282b7-80d5-49e0-ea6a-0fcda92f4154"
      },
      "source": [
        "scaler.scale_"
      ],
      "execution_count": 32,
      "outputs": [
        {
          "output_type": "execute_result",
          "data": {
            "text/plain": [
              "array([1.30332184e-03, 1.30548311e-03, 1.32041233e-03, 1.31011509e-03,\n",
              "       1.21162615e-08])"
            ]
          },
          "metadata": {
            "tags": []
          },
          "execution_count": 32
        }
      ]
    },
    {
      "cell_type": "code",
      "metadata": {
        "colab": {
          "base_uri": "https://localhost:8080/"
        },
        "id": "a7QmvAKLUeci",
        "outputId": "70fc94b5-ae08-4531-b19b-f98a2594fa94"
      },
      "source": [
        "scale = 1/1.30332184e-03\r\n",
        "scale"
      ],
      "execution_count": 33,
      "outputs": [
        {
          "output_type": "execute_result",
          "data": {
            "text/plain": [
              "767.2701932164354"
            ]
          },
          "metadata": {
            "tags": []
          },
          "execution_count": 33
        }
      ]
    },
    {
      "cell_type": "code",
      "metadata": {
        "id": "nG26PGviUjIh"
      },
      "source": [
        "y_pred = y_pred*scale\r\n",
        "y_test = y_test*scale"
      ],
      "execution_count": 34,
      "outputs": []
    },
    {
      "cell_type": "code",
      "metadata": {
        "colab": {
          "base_uri": "https://localhost:8080/",
          "height": 350
        },
        "id": "c7cqIJSCUl4Z",
        "outputId": "900dff19-5bd7-4f95-98a1-c328535c6424"
      },
      "source": [
        "plt.figure(figsize=(14,5))\r\n",
        "plt.plot(y_test, color = 'red', label = 'Real Google Stock Price')\r\n",
        "plt.plot(y_pred, color = 'blue', label = 'Predicted Google Stock Price')\r\n",
        "plt.title('Google Stock Price Prediction')\r\n",
        "plt.xlabel('Time')\r\n",
        "plt.ylabel('Google Stock Price')\r\n",
        "plt.legend()\r\n",
        "plt.show()"
      ],
      "execution_count": 35,
      "outputs": [
        {
          "output_type": "display_data",
          "data": {
            "image/png": "[encoded data removed]",
            "text/plain": [
              "<Figure size 1008x360 with 1 Axes>"
            ]
          },
          "metadata": {
            "tags": [],
            "needs_background": "light"
          }
        }
      ]
    },
    {
      "cell_type": "code",
      "metadata": {
        "id": "rpR-CaaUUyH2"
      },
      "source": [
        ""
      ],
      "execution_count": null,
      "outputs": []
    },
    {
      "cell_type": "markdown",
      "metadata": {
        "id": "upFHWN-dVGsv"
      },
      "source": [
        "## So as we see here the chart says that tomorrow the stock price is going to incline, the time now is 00:31 1/29/2021, we'll see as the stock market is open"
      ]
    },
    {
      "cell_type": "code",
      "metadata": {
        "id": "exybwTU8VsLV"
      },
      "source": [
        ""
      ],
      "execution_count": null,
      "outputs": []
    }
  ]
}